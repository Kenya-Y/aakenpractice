{
 "cells": [
  {
   "cell_type": "code",
   "execution_count": 1,
   "metadata": {},
   "outputs": [],
   "source": [
    "from PIL import Image\n",
    "import numpy as np\n",
    "import sys,os"
   ]
  },
  {
   "cell_type": "code",
   "execution_count": 2,
   "metadata": {},
   "outputs": [],
   "source": [
    "#リストで結果を返す関数\n",
    "def get_file(dir_path):\n",
    "    filenames = os.listdir(dir_path)\n",
    "    return filenames"
   ]
  },
  {
   "cell_type": "code",
   "execution_count": 3,
   "metadata": {},
   "outputs": [],
   "source": [
    "#画像表示関数(100,100でreshapeして使うこと）\n",
    "def img_show(img):\n",
    "    pil_img = Image.fromarray(np.uint8(img))\n",
    "    pil_img.show()"
   ]
  },
  {
   "cell_type": "code",
   "execution_count": 6,
   "metadata": {},
   "outputs": [],
   "source": [
    "#写真のパスをそれぞれ指定する\n",
    "miriteko_jpg = \"train/miriteko_train/\"\n",
    "koume_jpg    = \"train/koume_train/\"\n",
    "pic_miriteko = get_file(miriteko_jpg)\n",
    "pic_koume    = get_file(koume_jpg)"
   ]
  },
  {
   "cell_type": "code",
   "execution_count": 9,
   "metadata": {},
   "outputs": [],
   "source": [
    "#DS_Storeをリストから除外\n",
    "pic_miriteko.remove('.DS_Store')\n",
    "pic_koume.remove('.DS_Store')"
   ]
  },
  {
   "cell_type": "code",
   "execution_count": 11,
   "metadata": {},
   "outputs": [
    {
     "data": {
      "text/plain": [
       "['miriteko5.jpg',\n",
       " 'miriteko4.jpg',\n",
       " 'miriteko1.jpg',\n",
       " 'miriteko3.jpg',\n",
       " 'miriteko2.jpg']"
      ]
     },
     "execution_count": 11,
     "metadata": {},
     "output_type": "execute_result"
    }
   ],
   "source": [
    "#リストの確認①\n",
    "pic_miriteko"
   ]
  },
  {
   "cell_type": "code",
   "execution_count": 12,
   "metadata": {},
   "outputs": [
    {
     "data": {
      "text/plain": [
       "['koume7.jpg',\n",
       " 'koume6.jpg',\n",
       " 'koume4.jpg',\n",
       " 'koume5.jpg',\n",
       " 'koume1.jpg',\n",
       " 'koume2.jpg',\n",
       " 'koume3.jpg']"
      ]
     },
     "execution_count": 12,
     "metadata": {},
     "output_type": "execute_result"
    }
   ],
   "source": [
    "#リストの確認②\n",
    "pic_koume"
   ]
  },
  {
   "cell_type": "code",
   "execution_count": 16,
   "metadata": {},
   "outputs": [],
   "source": [
    "#画像・ラベルを配列に格納する\n",
    "#松田美里：0、渡邉幸愛：1\n",
    "\n",
    "datas_pic = []\n",
    "datas_label = []\n",
    "\n",
    "#松田美里の画像を配列に格納する\n",
    "for i in pic_miriteko:\n",
    "    #写真格納\n",
    "    #写真をdataに格納する\n",
    "    data = np.array(Image.open(miriteko_jpg + i).convert(\"L\"), np.float32)\n",
    "    #画像の形式を(100,100)→(1,100,100)に変更\n",
    "    data = data.reshape(-1,100,100)\n",
    "    #画像の次元を追加（axisに指定した成分に次元を追加）\n",
    "    data_expanded = np.expand_dims(data,axis=0)\n",
    "    #画像を配列に格納する\n",
    "    datas_pic.append(data_expanded)\n",
    "    #Numpy配列に格納する\n",
    "    train_datas = np.concatenate(datas_pic,axis=0)\n",
    "    #ラベル格納\n",
    "    label = 0\n",
    "    #ラベルの次元を追加する\n",
    "    label_expanded = np.expand_dims(label,axis=0)\n",
    "    #ラベルを配列に格納する\n",
    "    datas_label.append(label_expanded)\n",
    "    #Numpy配列に格納する\n",
    "    label_datas = np.concatenate(datas_label,axis=0)\n",
    "    \n",
    "#渡邉幸愛の画像を配列に格納する\n",
    "for i in pic_koume:\n",
    "    #写真をdataに格納する\n",
    "    data = np.array(Image.open(koume_jpg + i).convert(\"L\"), np.float32)\n",
    "    #形式を(100,100)→(1,100,100)に変更\n",
    "    data = data.reshape(-1,100,100)\n",
    "    #次元を追加（axisに指定した成分に次元を追加）\n",
    "    data_expanded = np.expand_dims(data,axis=0)\n",
    "    #配列に格納する\n",
    "    datas_pic.append(data_expanded)\n",
    "    train_datas = np.concatenate(datas_pic,axis=0)\n",
    "    #ラベル格納\n",
    "    label = 1\n",
    "    #ラベルの次元を追加する\n",
    "    label_expanded = np.expand_dims(label,axis=0)\n",
    "    #ラベルを配列に格納する\n",
    "    datas_label.append(label_expanded)\n",
    "    #Numpy配列に格納する\n",
    "    label_datas = np.concatenate(datas_label,axis=0)"
   ]
  },
  {
   "cell_type": "code",
   "execution_count": 17,
   "metadata": {},
   "outputs": [
    {
     "data": {
      "text/plain": [
       "(12, 1, 100, 100)"
      ]
     },
     "execution_count": 17,
     "metadata": {},
     "output_type": "execute_result"
    }
   ],
   "source": [
    "#画像配列\n",
    "train_datas.shape"
   ]
  },
  {
   "cell_type": "code",
   "execution_count": 21,
   "metadata": {},
   "outputs": [
    {
     "data": {
      "text/plain": [
       "array([0, 0, 0, 0, 0, 1, 1, 1, 1, 1, 1, 1])"
      ]
     },
     "execution_count": 21,
     "metadata": {},
     "output_type": "execute_result"
    }
   ],
   "source": [
    "#ラベル配列\n",
    "label_datas"
   ]
  },
  {
   "cell_type": "code",
   "execution_count": 23,
   "metadata": {},
   "outputs": [],
   "source": [
    "(x_train,t_train)=(train_datas,label_datas)"
   ]
  },
  {
   "cell_type": "code",
   "execution_count": 24,
   "metadata": {},
   "outputs": [
    {
     "data": {
      "text/plain": [
       "(12, 1, 100, 100)"
      ]
     },
     "execution_count": 24,
     "metadata": {},
     "output_type": "execute_result"
    }
   ],
   "source": [
    "x_train.shape"
   ]
  },
  {
   "cell_type": "code",
   "execution_count": 25,
   "metadata": {},
   "outputs": [
    {
     "data": {
      "text/plain": [
       "(12,)"
      ]
     },
     "execution_count": 25,
     "metadata": {},
     "output_type": "execute_result"
    }
   ],
   "source": [
    "t_train.shape"
   ]
  },
  {
   "cell_type": "code",
   "execution_count": null,
   "metadata": {},
   "outputs": [],
   "source": []
  }
 ],
 "metadata": {
  "kernelspec": {
   "display_name": "Python 3",
   "language": "python",
   "name": "python3"
  },
  "language_info": {
   "codemirror_mode": {
    "name": "ipython",
    "version": 3
   },
   "file_extension": ".py",
   "mimetype": "text/x-python",
   "name": "python",
   "nbconvert_exporter": "python",
   "pygments_lexer": "ipython3",
   "version": "3.7.4"
  }
 },
 "nbformat": 4,
 "nbformat_minor": 4
}
